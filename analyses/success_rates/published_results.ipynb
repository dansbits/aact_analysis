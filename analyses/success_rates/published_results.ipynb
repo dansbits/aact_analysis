{
 "cells": [
  {
   "cell_type": "markdown",
   "metadata": {},
   "source": [
    "# Trial Publication Rates\n",
    "\n",
    "This analysis takes a look at how frequently clinical trials produce a publication according to the data available from ClinicalTrials.gov. I first look at all studies and then sub-groups of completed studies and studies which terminated before completion.\n",
    "\n",
    "## Limitations\n",
    "\n",
    "While authors are supposed to be updating clinicaltrials.gov with publcation data it's not clear how well this is adhered to. There are likely studies which did result in a publication that was not reported to clinicaltrials.gov."
   ]
  },
  {
   "cell_type": "code",
   "execution_count": null,
   "metadata": {
    "collapsed": false
   },
   "outputs": [],
   "source": [
    "require 'dbi'\n",
    "require 'daru' \n",
    "require 'yaml'\n",
    "\n",
    "# change this to point to your aact_analysis directory\n",
    "database = YAML.load_file(\"/home/dan/workspace/aact_analysis/secrets.yml\")['database']; nil\n",
    "require 'nyaplot'"
   ]
  },
  {
   "cell_type": "code",
   "execution_count": null,
   "metadata": {
    "collapsed": false
   },
   "outputs": [],
   "source": [
    "db = DBI.connect(\"dbi:Mysql:#{database['name']}:#{database['host']}\", database['user'], database['password']); nil"
   ]
  },
  {
   "cell_type": "markdown",
   "metadata": {},
   "source": [
    "## Sample\n",
    "Here I'm taking a sample of studies which started after January 1st 2006 and completed by January 1 2014. The minimum year of 2006 is to ensure that this data represents somewhat recent studies. I chose a maximum completion year of 2014 to allow studies at least two years to produce a publication.\n",
    "\n",
    "In total this population represents 57,865 studies."
   ]
  },
  {
   "cell_type": "code",
   "execution_count": null,
   "metadata": {
    "collapsed": false,
    "scrolled": true
   },
   "outputs": [],
   "source": [
    "studies = Daru::DataFrame.from_sql(\n",
    "  db, \n",
    "  \"\n",
    "    select\n",
    "      cs.nct_id,\n",
    "      overall_status,\n",
    "      completion_date,\n",
    "      start_date,\n",
    "      completion_date,\n",
    "      completion_date_type,\n",
    "      firstreceived_results_date,\n",
    "      coalesce(reference_count, 0) as reference_count\n",
    "    from clinical_study cs\n",
    "    left outer join (\n",
    "      select nct_id, count(1) as reference_count\n",
    "      from `references`\n",
    "      where \n",
    "        reference_type = 'Results Reference'\n",
    "      group by nct_id\n",
    "    ) ref\n",
    "    on ref.nct_id = cs.nct_id\n",
    "    where \n",
    "      start_date is not null and completion_date is not null\n",
    "      and start_date > '2008-09-01' \n",
    "      and completion_date < '2014-01-01' \n",
    "      and completion_date_type = 'Actual'\n",
    "      and study_type != 'Expanded Access'\n",
    "      and overall_status = 'Completed'\"\n",
    ")\n",
    "\n",
    "# label studies as having published results or not\n",
    "studies[:publication_status] = studies.map(:row) do |r| \n",
    "  if(r[:reference_count] > 0 && !r[:firstreceived_results_date].nil?)\n",
    "    'Both'\n",
    "  elsif(r[:reference_count] > 0 && r[:firstreceived_results_date].nil?)\n",
    "    'Publication'\n",
    "  elsif(r[:reference_count] == 0 && !r[:firstreceived_results_date].nil?)\n",
    "    'Results on CT.gov'\n",
    "  else\n",
    "    'No Posted Results'\n",
    "  end\n",
    "end\n",
    "\n",
    "studies.size"
   ]
  },
  {
   "cell_type": "markdown",
   "metadata": {},
   "source": [
    "## What percentage of these studies are published?\n"
   ]
  },
  {
   "cell_type": "code",
   "execution_count": null,
   "metadata": {
    "collapsed": false
   },
   "outputs": [],
   "source": [
    "published_counts = studies.group_by(:publication_status).count[1..1]\n",
    "published_counts.vectors = Daru::Index.new([:study_count])\n",
    "published_counts[:status] = published_counts.index.to_a\n",
    "\n",
    "published_counts[:percent_published] = published_counts.map(:row) do |r| \n",
    "  ((r[:study_count].to_f / published_counts[:study_count].sum.to_f) * 100).round(4)\n",
    "end\n",
    "\n",
    "published_counts = published_counts.sort([:study_count], ascending: false)\n",
    "\n",
    "published_counts.plot type: :bar, y: :study_count, x: :status do |plot, diagram|\n",
    "  plot.x_label 'Dissemination Status'\n",
    "  plot.y_label '# of studies'\n",
    "  plot.margin({top: 30, bottom: 100, left: 100, right: 30})\n",
    "  diagram.color ['#84C76D']\n",
    "end"
   ]
  },
  {
   "cell_type": "code",
   "execution_count": null,
   "metadata": {
    "collapsed": false
   },
   "outputs": [],
   "source": [
    "published_counts"
   ]
  },
  {
   "cell_type": "markdown",
   "metadata": {},
   "source": [
    "## What penrcentage of studies who report having completed have published results within 2 years?\n",
    "\n",
    "The above percent of studies is dramatic but I'd like to consider that some of these studies have reported that their study terminated early. While these aren't successful it would be interesting to know how many studies which appear have to completed as planned but never shared results."
   ]
  },
  {
   "cell_type": "code",
   "execution_count": null,
   "metadata": {
    "collapsed": false,
    "scrolled": true
   },
   "outputs": [],
   "source": [
    "completed_studies = studies.filter_rows { |r| r[:overall_status] == 'Completed' };\n",
    "completed_studies.size"
   ]
  },
  {
   "cell_type": "code",
   "execution_count": null,
   "metadata": {
    "collapsed": false,
    "scrolled": true
   },
   "outputs": [],
   "source": [
    "published_counts = completed_studies.group_by(:publication_status).count\n",
    "published_counts[:status] = published_counts.index.to_a\n",
    "\n",
    "published_counts[:percent] = published_counts.map(:row) { |r| (r[:nct_id].to_f / published_counts[:nct_id].sum.to_f).round(4) }\n",
    "\n",
    "published_counts\n",
    "# published_counts.plot type: :bar, y: :percent, x: :status do |plot, diagram|\n",
    "#   plot.x_label 'Publication Status'\n",
    "#   plot.y_label '% of studies'\n",
    "# end"
   ]
  },
  {
   "cell_type": "markdown",
   "metadata": {
    "collapsed": true
   },
   "source": [
    "Publication rates among completed studies seem to be similar to that of the general study sample. This begs the question of whether there are studies which did not complete as planned which still published results."
   ]
  },
  {
   "cell_type": "markdown",
   "metadata": {},
   "source": [
    "## What percentage of studies which terminated early published results?"
   ]
  },
  {
   "cell_type": "code",
   "execution_count": null,
   "metadata": {
    "collapsed": false
   },
   "outputs": [],
   "source": [
    "terminated_studies = studies.filter_rows { |r| r[:overall_status] != 'Completed' };\n",
    "terminated_studies.size"
   ]
  },
  {
   "cell_type": "code",
   "execution_count": null,
   "metadata": {
    "collapsed": false
   },
   "outputs": [],
   "source": [
    "published_counts = terminated_studies.group_by(:publication_status).count\n",
    "published_counts[:status] = published_counts.index.to_a\n",
    "\n",
    "published_counts[:percent] = published_counts.map(:row) { |r| (r[:nct_id].to_f / published_counts[:nct_id].sum.to_f).round(4) }\n",
    "\n",
    "published_counts"
   ]
  }
 ],
 "metadata": {
  "kernelspec": {
   "display_name": "Ruby 2.1.4",
   "language": "ruby",
   "name": "ruby"
  },
  "language_info": {
   "file_extension": ".rb",
   "mimetype": "application/x-ruby",
   "name": "ruby",
   "version": "2.1.4"
  }
 },
 "nbformat": 4,
 "nbformat_minor": 0
}
