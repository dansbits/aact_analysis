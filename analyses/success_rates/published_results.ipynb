{
 "cells": [
  {
   "cell_type": "code",
   "execution_count": 2,
   "metadata": {
    "collapsed": false
   },
   "outputs": [
    {
     "data": {
      "text/plain": [
       "false"
      ]
     },
     "execution_count": 2,
     "metadata": {},
     "output_type": "execute_result"
    }
   ],
   "source": [
    "require 'dbi'\n",
    "require 'daru'\n",
    "require 'nyaplot'"
   ]
  },
  {
   "cell_type": "code",
   "execution_count": 33,
   "metadata": {
    "collapsed": false
   },
   "outputs": [
    {
     "data": {
      "text/plain": [
       "[\"Completed\", \"No longer available\", \"Suspended\", \"Terminated\", \"Withdrawn\", \"Withheld\"]"
      ]
     },
     "execution_count": 33,
     "metadata": {},
     "output_type": "execute_result"
    }
   ],
   "source": [
    "db = DBI.connect(\"dbi:SQLite3:../aact.db\")\n",
    "\n",
    "terminal_statuses = ['Completed','No longer available','Suspended','Terminated','Withdrawn','Withheld']"
   ]
  },
  {
   "cell_type": "code",
   "execution_count": 34,
   "metadata": {
    "collapsed": false
   },
   "outputs": [
    {
     "data": {
      "text/html": [
       "<table><tr><th colspan=\"6\">Daru::DataFrame:179580780  rows: 127312  cols: 5</th></tr><tr><th></th><th>completion_date</th><th>completion_date_type</th><th>nct_id</th><th>overall_status</th><th>start_date</th></tr><tr><td>0</td><td>March 2012</td><td>Actual</td><td>NCT00000105</td><td>Terminated</td><td>July 2002</td></tr><tr><td>1</td><td></td><td></td><td>NCT00000107</td><td>Completed</td><td></td></tr><tr><td>2</td><td></td><td></td><td>NCT00000108</td><td>Completed</td><td></td></tr><tr><td>3</td><td></td><td></td><td>NCT00000102</td><td>Completed</td><td></td></tr><tr><td>4</td><td></td><td></td><td>NCT00000104</td><td>Completed</td><td></td></tr><tr><td>5</td><td>December 1997</td><td>Actual</td><td>NCT00000117</td><td>Completed</td><td>August 1995</td></tr><tr><td>6</td><td>December 1993</td><td>Actual</td><td>NCT00000118</td><td>Completed</td><td>October 1992</td></tr><tr><td>7</td><td></td><td></td><td>NCT00000120</td><td>Completed</td><td>January 1985</td></tr><tr><td>8</td><td>August 2003</td><td>Actual</td><td>NCT00000133</td><td>Completed</td><td>January 1986</td></tr><tr><td>9</td><td>June 1994</td><td>Actual</td><td>NCT00000115</td><td>Completed</td><td>December 1990</td></tr><tr><td>10</td><td></td><td></td><td>NCT00000110</td><td>Completed</td><td></td></tr><tr><td>11</td><td>September 1998</td><td>Actual</td><td>NCT00000113</td><td>Completed</td><td>September 1997</td></tr><tr><td>12</td><td>June 1987</td><td>Actual</td><td>NCT00000114</td><td>Completed</td><td>May 1984</td></tr><tr><td>13</td><td>September 1997</td><td></td><td>NCT00000116</td><td>Completed</td><td>May 1996</td></tr><tr><td>14</td><td>January 1995</td><td>Actual</td><td>NCT00000130</td><td>Completed</td><td>February 1990</td></tr><tr><td>15</td><td>February 1994</td><td>Actual</td><td>NCT00000131</td><td>Completed</td><td>August 1988</td></tr><tr><td>16</td><td>August 1996</td><td>Actual</td><td>NCT00000135</td><td>Completed</td><td>September 1995</td></tr><tr><td>17</td><td>March 1995</td><td>Actual</td><td>NCT00000134</td><td>Completed</td><td>December 1992</td></tr><tr><td>18</td><td>May 1989</td><td>Actual</td><td>NCT00000121</td><td>Completed</td><td>March 1984</td></tr><tr><td>19</td><td>June 1988</td><td>Actual</td><td>NCT00000122</td><td>Completed</td><td>September 1985</td></tr><tr><td>20</td><td>February 1979</td><td>Actual</td><td>NCT00000123</td><td>Completed</td><td>January 1978</td></tr><tr><td>21</td><td>March 2009</td><td>Actual</td><td>NCT00000125</td><td>Completed</td><td>February 1994</td></tr><tr><td>22</td><td>October 1994</td><td>Actual</td><td>NCT00000127</td><td>Completed</td><td>October 1992</td></tr><tr><td>23</td><td>October 1983</td><td>Actual</td><td>NCT00000129</td><td>Completed</td><td>April 1981</td></tr><tr><td>24</td><td></td><td></td><td>NCT00000162</td><td>Completed</td><td>July 1977</td></tr><tr><td>25</td><td>September 2001</td><td></td><td>NCT00000150</td><td>Completed</td><td>January 1999</td></tr><tr><td>26</td><td>January 2004</td><td>Actual</td><td>NCT00000173</td><td>Completed</td><td>March 1999</td></tr><tr><td>27</td><td></td><td></td><td>NCT00000174</td><td>Completed</td><td></td></tr><tr><td>28</td><td>October 1991</td><td>Actual</td><td>NCT00000136</td><td>Completed</td><td>March 1990</td></tr><tr><td>29</td><td>September 1989</td><td>Actual</td><td>NCT00000137</td><td>Completed</td><td>May 1986</td></tr><tr><td>30</td><td></td><td></td><td>NCT00000139</td><td>Completed</td><td>October 1992</td></tr><tr><td>31</td><td></td><td></td><td>NCT00000140</td><td>Completed</td><td>September 1985</td></tr><tr><td>...</td><td>...</td><td>...</td><td>...</td><td>...</td><td>...</td></tr><tr><td>127311</td><td>March 2016</td><td>Actual</td><td>NCT02712099</td><td>Completed</td><td>August 2015</td></tr></table>"
      ],
      "text/plain": [
       "\n",
       "#<Daru::DataFrame:179580780 @name = 5ef7fd5d-8a98-45d0-857f-99d6023c809d @size = 127312>\n",
       "           completion completion     nct_id overall_st start_date \n",
       "         0 March 2012     Actual NCT0000010 Terminated  July 2002 \n",
       "         1                       NCT0000010  Completed            \n",
       "         2                       NCT0000010  Completed            \n",
       "         3                       NCT0000010  Completed            \n",
       "         4                       NCT0000010  Completed            \n",
       "         5 December 1     Actual NCT0000011  Completed August 199 \n",
       "         6 December 1     Actual NCT0000011  Completed October 19 \n",
       "         7                       NCT0000012  Completed January 19 \n",
       "         8 August 200     Actual NCT0000013  Completed January 19 \n",
       "         9  June 1994     Actual NCT0000011  Completed December 1 \n",
       "        10                       NCT0000011  Completed            \n",
       "        11 September      Actual NCT0000011  Completed September  \n",
       "        12  June 1987     Actual NCT0000011  Completed   May 1984 \n",
       "        13 September             NCT0000011  Completed   May 1996 \n",
       "        14 January 19     Actual NCT0000013  Completed February 1 \n",
       "       ...        ...        ...        ...        ...        ... \n"
      ]
     },
     "execution_count": 34,
     "metadata": {},
     "output_type": "execute_result"
    }
   ],
   "source": [
    "studies = Daru::DataFrame.from_sql(\n",
    "  db, \n",
    "  <<-SQL\n",
    "    select \n",
    "      nct_id, \n",
    "      overall_status, \n",
    "      start_date, \n",
    "      completion_date, \n",
    "      completion_date_type  \n",
    "    from clinical_study \n",
    "    where \n",
    "      overall_status in ('#{terminal_statuses.join(\"','\")}')\n",
    "and start_date is not null\n",
    "  SQL\n",
    ")"
   ]
  },
  {
   "cell_type": "code",
   "execution_count": 32,
   "metadata": {
    "collapsed": false
   },
   "outputs": [],
   "source": [
    "# set blank start dates to nil\n",
    "studies[:start_date] = studies[:start_date].map { |d| d == '' ? nil : d }\n",
    "\n",
    "# convert non-nil start dates to Date\n",
    "studies[:start_date] = studies[:start_date].map { |d| Date.strptime(d, '%b %Y') if !d.nil? }; nil\n",
    "\n",
    "studies[:completion_date] = studies[:completion_date].map { |d| d == '' ? nil : d }\n",
    "studies[:completion_date] = studies[:completion_date].map { |d| Date.strptime(d, '%b %Y') if !d.nil? }; nil"
   ]
  },
  {
   "cell_type": "code",
   "execution_count": null,
   "metadata": {
    "collapsed": true
   },
   "outputs": [],
   "source": []
  }
 ],
 "metadata": {
  "kernelspec": {
   "display_name": "Ruby 2.1.4",
   "language": "ruby",
   "name": "ruby"
  },
  "language_info": {
   "file_extension": ".rb",
   "mimetype": "application/x-ruby",
   "name": "ruby",
   "version": "2.1.4"
  }
 },
 "nbformat": 4,
 "nbformat_minor": 0
}
