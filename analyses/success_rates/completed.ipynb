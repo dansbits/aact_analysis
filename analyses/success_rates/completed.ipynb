{
 "cells": [
  {
   "cell_type": "markdown",
   "metadata": {},
   "source": [
    "# Clinical Trial Completion Rates\n",
    "\n",
    "This analysis is intended to assess studies posted on clinicaltrials.gov to determine success rates. In this case success of a trial is defined as completing as planned as determined by the status flag in the clinicaltrials.gov data set."
   ]
  },
  {
   "cell_type": "code",
   "execution_count": null,
   "metadata": {
    "collapsed": false
   },
   "outputs": [],
   "source": [
    "require 'dbi'\n",
    "require 'daru'\n",
    "require 'nyaplot'\n",
    "require 'yaml'\n",
    "\n",
    "# change this to point to your aact_analysis directory\n",
    "database = YAML.load_file(\"/home/dan/workspace/aact_analysis/secrets.yml\")['database']; nil"
   ]
  },
  {
   "cell_type": "code",
   "execution_count": null,
   "metadata": {
    "collapsed": false
   },
   "outputs": [],
   "source": [
    "db = DBI.connect(\"dbi:Mysql:#{database['name']}:#{database['host']}\", database['user'], database['password']); nil"
   ]
  },
  {
   "cell_type": "markdown",
   "metadata": {},
   "source": [
    "## Extract Data"
   ]
  },
  {
   "cell_type": "code",
   "execution_count": null,
   "metadata": {
    "collapsed": false,
    "scrolled": true
   },
   "outputs": [],
   "source": [
    "studies = Daru::DataFrame.from_sql(\n",
    "  db, \n",
    "  \"select \n",
    "    nct_id, \n",
    "    overall_status, \n",
    "    start_date, \n",
    "    completion_date, \n",
    "    completion_date_type, \n",
    "    phase\n",
    "   from clinical_study\n",
    "   where\n",
    "    start_date is not null and completion_date is not null\n",
    "    and start_date > '2008-09-01' \n",
    "    and completion_date < '2014-01-01' \n",
    "    and completion_date_type = 'Actual'\n",
    "    and study_type != 'Expanded Access'\")\n",
    "\n",
    "studies.size"
   ]
  },
  {
   "cell_type": "code",
   "execution_count": null,
   "metadata": {
    "collapsed": false
   },
   "outputs": [],
   "source": [
    "status_counts = studies.group_by(:overall_status).count[1..1]\n",
    "status_counts.vectors = Daru::Index.new([:total_study_count])\n",
    "status_counts[:status] = status_counts.index.to_a\n",
    "status_counts[:percent_complete] = status_counts.map(:row) { |c| ((c[:total_study_count].to_f / studies.size.to_f) * 100.0).round(4) }\n",
    "status_counts"
   ]
  },
  {
   "cell_type": "code",
   "execution_count": null,
   "metadata": {
    "collapsed": false
   },
   "outputs": [],
   "source": [
    "status_counts.plot type: :bar, x: :status, y: :total_study_count do |plot, diagram|\n",
    "  plot.x_label 'Terminal Status'\n",
    "  plot.y_label '# of studies'\n",
    "  plot.rotate_x_label -45\n",
    "  plot.margin({top: 30, bottom: 140, left: 100, right: 30})\n",
    "  diagram.color ['#84C76D']\n",
    "end"
   ]
  },
  {
   "cell_type": "markdown",
   "metadata": {},
   "source": [
    "## Completion Rates by Phase"
   ]
  },
  {
   "cell_type": "code",
   "execution_count": null,
   "metadata": {
    "collapsed": false
   },
   "outputs": [],
   "source": [
    "# build a data frame where each row is a study phase\n",
    "phase_completion_rates = Daru::DataFrame.new({ phase: studies[:phase].uniq.to_a })\n",
    "\n",
    "# get the # of studies in each phase\n",
    "studies_by_phase = studies.group_by(:phase).count[1..1]\n",
    "studies_by_phase.vectors = Daru::Index.new([:total_study_count])\n",
    "studies_by_phase[:phase] = studies_by_phase.index.to_a\n",
    "\n",
    "# join total study counts to the phase data frame\n",
    "phase_completion_rates = phase_completion_rates.join studies_by_phase, on: [:phase], how: :inner\n",
    "\n",
    "# get the # of completed studies in each phase\n",
    "completed_studies_by_phase = studies.filter_rows { |r| r[:overall_status] == 'Completed' }.group_by(:phase).count[1..1]\n",
    "completed_studies_by_phase.vectors = Daru::Index.new([:completed_study_count])\n",
    "completed_studies_by_phase[:phase] = studies_by_phase.index.to_a\n",
    "\n",
    "# join the completed study counts to the phase data frame\n",
    "phase_completion_rates = phase_completion_rates.join completed_studies_by_phase, on: [:phase], how: :inner\n",
    "\n",
    "# calculate the % of studies for each phase which terminated with a status of 'Completed'\n",
    "phase_completion_rates[:percent_complete] = phase_completion_rates.map(:row) { |r| ((r[:completed_study_count].to_f / r[:total_study_count].to_f) * 100.0).round(4) }\n",
    "phase_completion_rates"
   ]
  },
  {
   "cell_type": "code",
   "execution_count": null,
   "metadata": {
    "collapsed": false
   },
   "outputs": [],
   "source": [
    "phase_completion_rates.plot type: :bar, x: :phase, y: :percent_complete do |plot, diagram|\n",
    "  plot.x_label 'Study Phase'\n",
    "  plot.y_label '% of studies completed'\n",
    "  plot.rotate_x_label -45\n",
    "  plot.yrange [0,100]\n",
    "  plot.margin({top: 30, bottom: 180, left: 80, right: 30})\n",
    "  diagram.color ['#84C76D']\n",
    "end"
   ]
  }
 ],
 "metadata": {
  "kernelspec": {
   "display_name": "Ruby 2.1.4",
   "language": "ruby",
   "name": "ruby"
  },
  "language_info": {
   "file_extension": ".rb",
   "mimetype": "application/x-ruby",
   "name": "ruby",
   "version": "2.1.4"
  }
 },
 "nbformat": 4,
 "nbformat_minor": 0
}
