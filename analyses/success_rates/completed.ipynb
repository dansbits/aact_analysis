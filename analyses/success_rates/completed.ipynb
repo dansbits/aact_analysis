{
 "cells": [
  {
   "cell_type": "code",
   "execution_count": 2,
   "metadata": {
    "collapsed": false
   },
   "outputs": [
    {
     "data": {
      "application/javascript": [
       "if(window['d3'] === undefined ||\n",
       "   window['Nyaplot'] === undefined){\n",
       "    var path = {\"d3\":\"https://cdnjs.cloudflare.com/ajax/libs/d3/3.5.5/d3.min\",\"downloadable\":\"http://cdn.rawgit.com/domitry/d3-downloadable/master/d3-downloadable\"};\n",
       "\n",
       "\n",
       "\n",
       "    var shim = {\"d3\":{\"exports\":\"d3\"},\"downloadable\":{\"exports\":\"downloadable\"}};\n",
       "\n",
       "    require.config({paths: path, shim:shim});\n",
       "\n",
       "\n",
       "require(['d3'], function(d3){window['d3']=d3;console.log('finished loading d3');require(['downloadable'], function(downloadable){window['downloadable']=downloadable;console.log('finished loading downloadable');\n",
       "\n",
       "\tvar script = d3.select(\"head\")\n",
       "\t    .append(\"script\")\n",
       "\t    .attr(\"src\", \"http://cdn.rawgit.com/domitry/Nyaplotjs/master/release/nyaplot.js\")\n",
       "\t    .attr(\"async\", true);\n",
       "\n",
       "\tscript[0][0].onload = script[0][0].onreadystatechange = function(){\n",
       "\n",
       "\n",
       "\t    var event = document.createEvent(\"HTMLEvents\");\n",
       "\t    event.initEvent(\"load_nyaplot\",false,false);\n",
       "\t    window.dispatchEvent(event);\n",
       "\t    console.log('Finished loading Nyaplotjs');\n",
       "\n",
       "\t};\n",
       "\n",
       "\n",
       "});});\n",
       "}\n"
      ],
      "text/plain": [
       "\"if(window['d3'] === undefined ||\\n   window['Nyaplot'] === undefined){\\n    var path = {\\\"d3\\\":\\\"https://cdnjs.cloudflare.com/ajax/libs/d3/3.5.5/d3.min\\\",\\\"downloadable\\\":\\\"http://cdn.rawgit.com/domitry/d3-downloadable/master/d3-downloadable\\\"};\\n\\n\\n\\n    var shim = {\\\"d3\\\":{\\\"exports\\\":\\\"d3\\\"},\\\"downloadable\\\":{\\\"exports\\\":\\\"downloadable\\\"}};\\n\\n    require.config({paths: path, shim:shim});\\n\\n\\nrequire(['d3'], function(d3){window['d3']=d3;console.log('finished loading d3');require(['downloadable'], function(downloadable){window['downloadable']=downloadable;console.log('finished loading downloadable');\\n\\n\\tvar script = d3.select(\\\"head\\\")\\n\\t    .append(\\\"script\\\")\\n\\t    .attr(\\\"src\\\", \\\"http://cdn.rawgit.com/domitry/Nyaplotjs/master/release/nyaplot.js\\\")\\n\\t    .attr(\\\"async\\\", true);\\n\\n\\tscript[0][0].onload = script[0][0].onreadystatechange = function(){\\n\\n\\n\\t    var event = document.createEvent(\\\"HTMLEvents\\\");\\n\\t    event.initEvent(\\\"load_nyaplot\\\",false,false);\\n\\t    window.dispatchEvent(event);\\n\\t    console.log('Finished loading Nyaplotjs');\\n\\n\\t};\\n\\n\\n});});\\n}\\n\""
      ]
     },
     "metadata": {},
     "output_type": "display_data"
    },
    {
     "data": {
      "text/plain": [
       "false"
      ]
     },
     "execution_count": 2,
     "metadata": {},
     "output_type": "execute_result"
    }
   ],
   "source": [
    "require 'dbi'\n",
    "require 'daru'\n",
    "require 'nyaplot'"
   ]
  },
  {
   "cell_type": "code",
   "execution_count": 3,
   "metadata": {
    "collapsed": false
   },
   "outputs": [
    {
     "data": {
      "text/plain": [
       "[\"Completed\", \"No longer available\", \"Suspended\", \"Terminated\", \"Withdrawn\", \"Withheld\"]"
      ]
     },
     "execution_count": 3,
     "metadata": {},
     "output_type": "execute_result"
    }
   ],
   "source": [
    "db = DBI.connect(\"dbi:SQLite3:/home/dan/workspace/aact_import/aact\")\n",
    "\n",
    "terminal_statuses = ['Completed','No longer available','Suspended','Terminated','Withdrawn','Withheld']"
   ]
  },
  {
   "cell_type": "markdown",
   "metadata": {},
   "source": [
    "## Extract Data"
   ]
  },
  {
   "cell_type": "code",
   "execution_count": 4,
   "metadata": {
    "collapsed": false,
    "scrolled": true
   },
   "outputs": [
    {
     "data": {
      "text/html": [
       "<table><tr><th colspan=\"6\">Daru::DataFrame:114468900  rows: 211437  cols: 5</th></tr><tr><th></th><th>completion_date</th><th>completion_date_type</th><th>nct_id</th><th>overall_status</th><th>start_date</th></tr><tr><td>0</td><td>March 2012</td><td>Actual</td><td>NCT00000105</td><td>Terminated</td><td>July 2002</td></tr><tr><td>1</td><td></td><td></td><td>NCT00000106</td><td>Active, not recruiting</td><td></td></tr><tr><td>2</td><td></td><td></td><td>NCT00000107</td><td>Completed</td><td></td></tr><tr><td>3</td><td></td><td></td><td>NCT00000108</td><td>Completed</td><td></td></tr><tr><td>4</td><td></td><td></td><td>NCT00000102</td><td>Completed</td><td></td></tr><tr><td>5</td><td></td><td></td><td>NCT00000104</td><td>Completed</td><td></td></tr><tr><td>6</td><td>December 1997</td><td>Actual</td><td>NCT00000117</td><td>Completed</td><td>August 1995</td></tr><tr><td>7</td><td>December 1993</td><td>Actual</td><td>NCT00000118</td><td>Completed</td><td>October 1992</td></tr><tr><td>8</td><td></td><td></td><td>NCT00000119</td><td>Active, not recruiting</td><td>March 1994</td></tr><tr><td>9</td><td></td><td></td><td>NCT00000120</td><td>Completed</td><td>January 1985</td></tr><tr><td>10</td><td></td><td></td><td>NCT00000132</td><td>Active, not recruiting</td><td>October 1992</td></tr><tr><td>11</td><td>August 2003</td><td>Actual</td><td>NCT00000133</td><td>Completed</td><td>January 1986</td></tr><tr><td>12</td><td>June 1994</td><td>Actual</td><td>NCT00000115</td><td>Completed</td><td>December 1990</td></tr><tr><td>13</td><td></td><td></td><td>NCT00000110</td><td>Completed</td><td></td></tr><tr><td>14</td><td></td><td></td><td>NCT00000111</td><td>Active, not recruiting</td><td></td></tr><tr><td>15</td><td></td><td></td><td>NCT00000112</td><td>Recruiting</td><td></td></tr><tr><td>16</td><td>September 1998</td><td>Actual</td><td>NCT00000113</td><td>Completed</td><td>September 1997</td></tr><tr><td>17</td><td>June 1987</td><td>Actual</td><td>NCT00000114</td><td>Completed</td><td>May 1984</td></tr><tr><td>18</td><td>September 1997</td><td></td><td>NCT00000116</td><td>Completed</td><td>May 1996</td></tr><tr><td>19</td><td>January 1995</td><td>Actual</td><td>NCT00000130</td><td>Completed</td><td>February 1990</td></tr><tr><td>20</td><td>February 1994</td><td>Actual</td><td>NCT00000131</td><td>Completed</td><td>August 1988</td></tr><tr><td>21</td><td></td><td></td><td>NCT00000149</td><td>Active, not recruiting</td><td>October 1993</td></tr><tr><td>22</td><td>August 1996</td><td>Actual</td><td>NCT00000135</td><td>Completed</td><td>September 1995</td></tr><tr><td>23</td><td>March 1995</td><td>Actual</td><td>NCT00000134</td><td>Completed</td><td>December 1992</td></tr><tr><td>24</td><td>May 1989</td><td>Actual</td><td>NCT00000121</td><td>Completed</td><td>March 1984</td></tr><tr><td>25</td><td>June 1988</td><td>Actual</td><td>NCT00000122</td><td>Completed</td><td>September 1985</td></tr><tr><td>26</td><td>February 1979</td><td>Actual</td><td>NCT00000123</td><td>Completed</td><td>January 1978</td></tr><tr><td>27</td><td></td><td></td><td>NCT00000124</td><td>Active, not recruiting</td><td>November 1986</td></tr><tr><td>28</td><td>March 2009</td><td>Actual</td><td>NCT00000125</td><td>Completed</td><td>February 1994</td></tr><tr><td>29</td><td></td><td></td><td>NCT00000126</td><td>Active, not recruiting</td><td>October 1994</td></tr><tr><td>30</td><td>October 1994</td><td>Actual</td><td>NCT00000127</td><td>Completed</td><td>October 1992</td></tr><tr><td>31</td><td></td><td></td><td>NCT00000128</td><td>Active, not recruiting</td><td>June 1996</td></tr><tr><td>...</td><td>...</td><td>...</td><td>...</td><td>...</td><td>...</td></tr><tr><td>211436</td><td>March 2016</td><td>Actual</td><td>NCT02712099</td><td>Completed</td><td>August 2015</td></tr></table>"
      ],
      "text/plain": [
       "\n",
       "#<Daru::DataFrame:114468900 @name = cd8694b8-baf9-4660-90f1-449c0b3ecb44 @size = 211437>\n",
       "           completion completion     nct_id overall_st start_date \n",
       "         0 March 2012     Actual NCT0000010 Terminated  July 2002 \n",
       "         1                       NCT0000010 Active, no            \n",
       "         2                       NCT0000010  Completed            \n",
       "         3                       NCT0000010  Completed            \n",
       "         4                       NCT0000010  Completed            \n",
       "         5                       NCT0000010  Completed            \n",
       "         6 December 1     Actual NCT0000011  Completed August 199 \n",
       "         7 December 1     Actual NCT0000011  Completed October 19 \n",
       "         8                       NCT0000011 Active, no March 1994 \n",
       "         9                       NCT0000012  Completed January 19 \n",
       "        10                       NCT0000013 Active, no October 19 \n",
       "        11 August 200     Actual NCT0000013  Completed January 19 \n",
       "        12  June 1994     Actual NCT0000011  Completed December 1 \n",
       "        13                       NCT0000011  Completed            \n",
       "        14                       NCT0000011 Active, no            \n",
       "       ...        ...        ...        ...        ...        ... \n"
      ]
     },
     "execution_count": 4,
     "metadata": {},
     "output_type": "execute_result"
    }
   ],
   "source": [
    "studies = Daru::DataFrame.from_sql(db, 'select nct_id, overall_status, start_date, completion_date, completion_date_type  from clinical_study')"
   ]
  },
  {
   "cell_type": "code",
   "execution_count": 5,
   "metadata": {
    "collapsed": false
   },
   "outputs": [],
   "source": [
    "# set blank start dates to nil\n",
    "studies[:start_date] = studies[:start_date].map { |d| d == '' ? nil : d }\n",
    "\n",
    "# convert non-nil start dates to Date\n",
    "studies[:start_date] = studies[:start_date].map { |d| Date.strptime(d, '%b %Y') if !d.nil? }; nil\n",
    "\n",
    "studies[:completion_date] = studies[:completion_date].map { |d| d == '' ? nil : d }\n",
    "studies[:completion_date] = studies[:completion_date].map { |d| Date.strptime(d, '%b %Y') if !d.nil? }; nil"
   ]
  },
  {
   "cell_type": "markdown",
   "metadata": {},
   "source": [
    "## Only include studies which started in or after 2006"
   ]
  },
  {
   "cell_type": "code",
   "execution_count": 9,
   "metadata": {
    "collapsed": false
   },
   "outputs": [
    {
     "data": {
      "text/plain": [
       "90744"
      ]
     },
     "execution_count": 9,
     "metadata": {},
     "output_type": "execute_result"
    }
   ],
   "source": [
    "recent_studies = studies.filter_rows { |s| !s[:start_date].nil? }\n",
    "recent_studies = recent_studies.filter_rows { |s| (s[:start_date] > Date.parse('2006-01-01')) }\n",
    "recent_studies = recent_studies.filter_rows { |s| terminal_statuses.include? s[:overall_status] }\n",
    "recent_studies.size"
   ]
  },
  {
   "cell_type": "code",
   "execution_count": 48,
   "metadata": {
    "collapsed": false
   },
   "outputs": [
    {
     "data": {
      "text/html": [
       "<div id='vis-0a8d40b6-38a7-40d9-b7a3-b8f0d99a57a2'></div>\n",
       "<script>\n",
       "(function(){\n",
       "    var render = function(){\n",
       "        var model = {\"panes\":[{\"diagrams\":[{\"type\":\"bar\",\"options\":{\"x\":\"status\",\"y\":\"nct_id\"},\"data\":\"b46504b0-9b30-4be1-8e2a-d5b406827b4c\"}],\"options\":{\"x_label\":\"\",\"y_label\":\"\",\"rotate_x_label\":-45,\"margin\":{\"top\":30,\"bottom\":120,\"left\":80,\"right\":30},\"width\":700,\"xrange\":[\"Completed\",\"No longer available\",\"Suspended\",\"Terminated\",\"Withdrawn\",\"Withheld\"],\"yrange\":[0,76860]}}],\"data\":{\"b46504b0-9b30-4be1-8e2a-d5b406827b4c\":[{\"completion_date\":76860,\"completion_date_type\":76860,\"nct_id\":76860,\"start_date\":76860,\"status\":\"Completed\"},{\"completion_date\":19,\"completion_date_type\":19,\"nct_id\":19,\"start_date\":19,\"status\":\"No longer available\"},{\"completion_date\":852,\"completion_date_type\":852,\"nct_id\":852,\"start_date\":852,\"status\":\"Suspended\"},{\"completion_date\":8822,\"completion_date_type\":8822,\"nct_id\":8822,\"start_date\":8822,\"status\":\"Terminated\"},{\"completion_date\":3607,\"completion_date_type\":3607,\"nct_id\":3607,\"start_date\":3607,\"status\":\"Withdrawn\"},{\"completion_date\":584,\"completion_date_type\":584,\"nct_id\":584,\"start_date\":584,\"status\":\"Withheld\"}]},\"extension\":[]}\n",
       "        var id_name = '#vis-0a8d40b6-38a7-40d9-b7a3-b8f0d99a57a2';\n",
       "        Nyaplot.core.parse(model, id_name);\n",
       "\n",
       "        require(['downloadable'], function(downloadable){\n",
       "          var svg = d3.select(id_name).select(\"svg\");\n",
       "\t  if(!svg.empty())\n",
       "\t    svg.call(downloadable().filename('fig'));\n",
       "\t});\n",
       "    };\n",
       "    if(window['Nyaplot']==undefined){\n",
       "        window.addEventListener('load_nyaplot', render, false);\n",
       "\treturn;\n",
       "    } else {\n",
       "       render();\n",
       "    }\n",
       "})();\n",
       "</script>\n"
      ],
      "text/plain": [
       "#<Nyaplot::Frame:0x00000016826408 @properties={:panes=>[#<Nyaplot::Plot:0x00000016823028 @properties={:diagrams=>[#<Nyaplot::Diagram:0x00000016826958 @properties={:type=>:bar, :options=>{:x=>:status, :y=>:nct_id}, :data=>\"b46504b0-9b30-4be1-8e2a-d5b406827b4c\"}, @xrange=[\"Completed\", \"No longer available\", \"Suspended\", \"Terminated\", \"Withdrawn\", \"Withheld\"], @yrange=[0, 76860]>], :options=>{:x_label=>\"\", :y_label=>\"\", :rotate_x_label=>-45, :margin=>{:top=>30, :bottom=>120, :left=>80, :right=>30}, :width=>700, :xrange=>[\"Completed\", \"No longer available\", \"Suspended\", \"Terminated\", \"Withdrawn\", \"Withheld\"], :yrange=>[0, 76860]}}>], :data=>{\"b46504b0-9b30-4be1-8e2a-d5b406827b4c\"=>#<Nyaplot::DataFrame:0x00000016826ed0 @name=\"b46504b0-9b30-4be1-8e2a-d5b406827b4c\", @rows=[{:completion_date=>76860, :completion_date_type=>76860, :nct_id=>76860, :start_date=>76860, :status=>\"Completed\"}, {:completion_date=>19, :completion_date_type=>19, :nct_id=>19, :start_date=>19, :status=>\"No longer available\"}, {:completion_date=>852, :completion_date_type=>852, :nct_id=>852, :start_date=>852, :status=>\"Suspended\"}, {:completion_date=>8822, :completion_date_type=>8822, :nct_id=>8822, :start_date=>8822, :status=>\"Terminated\"}, {:completion_date=>3607, :completion_date_type=>3607, :nct_id=>3607, :start_date=>3607, :status=>\"Withdrawn\"}, {:completion_date=>584, :completion_date_type=>584, :nct_id=>584, :start_date=>584, :status=>\"Withheld\"}]>}, :extension=>[]}>"
      ]
     },
     "metadata": {},
     "output_type": "display_data"
    }
   ],
   "source": [
    "status_counts = recent_studies.group_by(:overall_status).count\n",
    "status_counts[:status] = status_counts.index.to_a\n",
    "status_counts.plot type: :bar, x: :status, y: :nct_id do |plot, diagram|\n",
    "  plot.x_label ''\n",
    "  plot.y_label ''\n",
    "  plot.rotate_x_label -45\n",
    "  plot.margin({top: 30, bottom: 120, left: 80, right: 30})\n",
    "end"
   ]
  },
  {
   "cell_type": "code",
   "execution_count": 47,
   "metadata": {
    "collapsed": false
   },
   "outputs": [
    {
     "data": {
      "text/html": [
       "<div id='vis-da870675-39ae-45d2-8334-1829c1cb497d'></div>\n",
       "<script>\n",
       "(function(){\n",
       "    var render = function(){\n",
       "        var model = {\"panes\":[{\"diagrams\":[{\"type\":\"bar\",\"options\":{\"x\":\"status\",\"y\":\"percent\"},\"data\":\"a8b1ae28-7a07-4d30-978a-495d2a7e7829\"}],\"options\":{\"x_label\":\"\",\"y_label\":\"\",\"rotate_x_label\":-45,\"margin\":{\"top\":30,\"bottom\":120,\"left\":80,\"right\":30},\"width\":700,\"xrange\":[\"Completed\",\"No longer available\",\"Suspended\",\"Terminated\",\"Withdrawn\",\"Withheld\"],\"yrange\":[0,0.85]}}],\"data\":{\"a8b1ae28-7a07-4d30-978a-495d2a7e7829\":[{\"completion_date\":76860,\"completion_date_type\":76860,\"nct_id\":76860,\"start_date\":76860,\"status\":\"Completed\",\"percent\":0.85},{\"completion_date\":19,\"completion_date_type\":19,\"nct_id\":19,\"start_date\":19,\"status\":\"No longer available\",\"percent\":0.0},{\"completion_date\":852,\"completion_date_type\":852,\"nct_id\":852,\"start_date\":852,\"status\":\"Suspended\",\"percent\":0.01},{\"completion_date\":8822,\"completion_date_type\":8822,\"nct_id\":8822,\"start_date\":8822,\"status\":\"Terminated\",\"percent\":0.1},{\"completion_date\":3607,\"completion_date_type\":3607,\"nct_id\":3607,\"start_date\":3607,\"status\":\"Withdrawn\",\"percent\":0.04},{\"completion_date\":584,\"completion_date_type\":584,\"nct_id\":584,\"start_date\":584,\"status\":\"Withheld\",\"percent\":0.01}]},\"extension\":[]}\n",
       "        var id_name = '#vis-da870675-39ae-45d2-8334-1829c1cb497d';\n",
       "        Nyaplot.core.parse(model, id_name);\n",
       "\n",
       "        require(['downloadable'], function(downloadable){\n",
       "          var svg = d3.select(id_name).select(\"svg\");\n",
       "\t  if(!svg.empty())\n",
       "\t    svg.call(downloadable().filename('fig'));\n",
       "\t});\n",
       "    };\n",
       "    if(window['Nyaplot']==undefined){\n",
       "        window.addEventListener('load_nyaplot', render, false);\n",
       "\treturn;\n",
       "    } else {\n",
       "       render();\n",
       "    }\n",
       "})();\n",
       "</script>\n"
      ],
      "text/plain": [
       "#<Nyaplot::Frame:0x00000019f65298 @properties={:panes=>[#<Nyaplot::Plot:0x00000019f62840 @properties={:diagrams=>[#<Nyaplot::Diagram:0x00000019f657e8 @properties={:type=>:bar, :options=>{:x=>:status, :y=>:percent}, :data=>\"a8b1ae28-7a07-4d30-978a-495d2a7e7829\"}, @xrange=[\"Completed\", \"No longer available\", \"Suspended\", \"Terminated\", \"Withdrawn\", \"Withheld\"], @yrange=[0, 0.85]>], :options=>{:x_label=>\"\", :y_label=>\"\", :rotate_x_label=>-45, :margin=>{:top=>30, :bottom=>120, :left=>80, :right=>30}, :width=>700, :xrange=>[\"Completed\", \"No longer available\", \"Suspended\", \"Terminated\", \"Withdrawn\", \"Withheld\"], :yrange=>[0, 0.85]}}>], :data=>{\"a8b1ae28-7a07-4d30-978a-495d2a7e7829\"=>#<Nyaplot::DataFrame:0x00000019f65d60 @name=\"a8b1ae28-7a07-4d30-978a-495d2a7e7829\", @rows=[{:completion_date=>76860, :completion_date_type=>76860, :nct_id=>76860, :start_date=>76860, :status=>\"Completed\", :percent=>0.85}, {:completion_date=>19, :completion_date_type=>19, :nct_id=>19, :start_date=>19, :status=>\"No longer available\", :percent=>0.0}, {:completion_date=>852, :completion_date_type=>852, :nct_id=>852, :start_date=>852, :status=>\"Suspended\", :percent=>0.01}, {:completion_date=>8822, :completion_date_type=>8822, :nct_id=>8822, :start_date=>8822, :status=>\"Terminated\", :percent=>0.1}, {:completion_date=>3607, :completion_date_type=>3607, :nct_id=>3607, :start_date=>3607, :status=>\"Withdrawn\", :percent=>0.04}, {:completion_date=>584, :completion_date_type=>584, :nct_id=>584, :start_date=>584, :status=>\"Withheld\", :percent=>0.01}]>}, :extension=>[]}>"
      ]
     },
     "metadata": {},
     "output_type": "display_data"
    }
   ],
   "source": [
    "status_counts[:percent] = (status_counts.collect(:row) { |c| c[:nct_id].to_f.round(2) } / recent_studies.size).round(2)\n",
    "\n",
    "status_counts.plot type: :bar, x: :status, y: :percent do |plot, diagram|\n",
    "  plot.x_label ''\n",
    "  plot.y_label ''\n",
    "  plot.rotate_x_label -45\n",
    "  plot.margin({top: 30, bottom: 120, left: 80, right: 30})\n",
    "end"
   ]
  }
 ],
 "metadata": {
  "kernelspec": {
   "display_name": "Ruby 2.1.4",
   "language": "ruby",
   "name": "ruby"
  },
  "language_info": {
   "file_extension": ".rb",
   "mimetype": "application/x-ruby",
   "name": "ruby",
   "version": "2.1.4"
  }
 },
 "nbformat": 4,
 "nbformat_minor": 0
}
